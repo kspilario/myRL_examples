{
 "cells": [
  {
   "cell_type": "code",
   "execution_count": 1,
   "metadata": {},
   "outputs": [],
   "source": [
    "import numpy as np\n",
    "import matplotlib.pyplot as plt\n",
    "\n",
    "# MRP (Markov Reward Process) representation\n",
    "# Example taken from Fig. 1.7 of Lapan (2018). \"Deep RL: Hands-On,\" 2nd Ed.\n",
    "\n",
    "class MRP_Environment:\n",
    "    def __init__(self, num_steps=10):\n",
    "        self.states = ['Chat', 'Computer', 'Coffee', 'Home']\n",
    "        self.rewards = np.array([[-1, 2, 1, 0],         # from Chat\n",
    "                                 [-3, 5, 1, 2],         # from Computer\n",
    "                                 [ 2, 3, 1, 0],         # from Coffee\n",
    "                                 [ 0, 0, 1, 1]])        # from Home \n",
    "        self.trans = np.array([[0.5, 0.3, 0.2,   0],    # from Chat\n",
    "                               [0.1, 0.5, 0.2, 0.2],    # from Computer\n",
    "                               [0.7, 0.2, 0.1,   0],    # from Coffee\n",
    "                               [  0,   0, 0.4, 0.6]])   # from Home\n",
    "        self.num_steps = num_steps\n",
    "\n",
    "    def reset(self):\n",
    "        # Reset to Home state\n",
    "        self.state = 3\n",
    "        self.steps_left = self.num_steps\n",
    "        return self.state\n",
    "    \n",
    "    def step(self):\n",
    "        cum_prob = np.cumsum(self.trans[self.state, :])\n",
    "        new_state = np.argwhere(np.random.rand(1) <= cum_prob)[0][0]\n",
    "        old_state = self.state\n",
    "        self.state = new_state\n",
    "        self.steps_left -= 1\n",
    "        return new_state, self.rewards[old_state, new_state]\n",
    "    \n",
    "    def is_done(self):\n",
    "        return self.steps_left <= 0"
   ]
  },
  {
   "cell_type": "markdown",
   "metadata": {},
   "source": [
    "## Generate a single episode"
   ]
  },
  {
   "cell_type": "code",
   "execution_count": 2,
   "metadata": {},
   "outputs": [
    {
     "name": "stdout",
     "output_type": "stream",
     "text": [
      "START: Home\n",
      "       Home\tTotal Reward: 1\n",
      "       Home\tTotal Reward: 2\n",
      "       Coffee\tTotal Reward: 3\n",
      "       Chat\tTotal Reward: 5\n",
      "       Chat\tTotal Reward: 4\n",
      "       Coffee\tTotal Reward: 5\n",
      "       Coffee\tTotal Reward: 6\n",
      "       Chat\tTotal Reward: 8\n",
      "       Chat\tTotal Reward: 7\n",
      "       Computer\tTotal Reward: 9\n",
      "END\n"
     ]
    }
   ],
   "source": [
    "env = MRP_Environment()\n",
    "total_reward = 0\n",
    "obs = env.reset()\n",
    "\n",
    "# Generate an episode\n",
    "print(f'START: {env.states[obs]}')\n",
    "while True:\n",
    "    obs, rew = env.step()\n",
    "    total_reward += rew\n",
    "    print(f\"       {env.states[obs]}\\tTotal Reward: {total_reward}\")\n",
    "    if env.is_done():\n",
    "        print(\"END\")\n",
    "        break"
   ]
  },
  {
   "cell_type": "markdown",
   "metadata": {},
   "source": [
    "## Get histogram of many episodes"
   ]
  },
  {
   "cell_type": "code",
   "execution_count": 3,
   "metadata": {
    "scrolled": false
   },
   "outputs": [
    {
     "data": {
      "image/png": "[encoded data removed]",
      "text/plain": [
       "<Figure size 720x288 with 1 Axes>"
      ]
     },
     "metadata": {
      "needs_background": "light"
     },
     "output_type": "display_data"
    },
    {
     "name": "stdout",
     "output_type": "stream",
     "text": [
      "Mean:   14.102666666666666\n",
      "Mode:   13\n",
      "Median: 13.0\n"
     ]
    }
   ],
   "source": [
    "tots = []\n",
    "env = MRP_Environment(10)\n",
    "for _ in range(3000):\n",
    "    total_reward = 0\n",
    "    seq = []\n",
    "    env.reset()\n",
    "    while True:\n",
    "        obs, rew = env.step()\n",
    "        seq.append(obs)\n",
    "        total_reward += rew\n",
    "        if env.is_done():\n",
    "            tots.append(total_reward)\n",
    "            break\n",
    "\n",
    "plt.figure(figsize=(10, 4))\n",
    "plt.hist(tots, bins=np.arange(min(tots), max(tots)), \n",
    "         rwidth=0.8, align='left')\n",
    "plt.ylabel('Frequency')\n",
    "plt.xlabel('Total Reward after each episode')\n",
    "plt.grid()\n",
    "plt.show()\n",
    "\n",
    "print(f'Mean:   {np.mean(tots)}')\n",
    "print(f'Mode:   {max(set(tots), key=tots.count)}')\n",
    "print(f'Median: {np.median(tots)}')\n",
    "#print(tots)"
   ]
  },
  {
   "cell_type": "code",
   "execution_count": null,
   "metadata": {},
   "outputs": [],
   "source": []
  }
 ],
 "metadata": {
  "kernelspec": {
   "display_name": "Python 3",
   "language": "python",
   "name": "python3"
  },
  "language_info": {
   "codemirror_mode": {
    "name": "ipython",
    "version": 3
   },
   "file_extension": ".py",
   "mimetype": "text/x-python",
   "name": "python",
   "nbconvert_exporter": "python",
   "pygments_lexer": "ipython3",
   "version": "3.8.3"
  }
 },
 "nbformat": 4,
 "nbformat_minor": 4
}
